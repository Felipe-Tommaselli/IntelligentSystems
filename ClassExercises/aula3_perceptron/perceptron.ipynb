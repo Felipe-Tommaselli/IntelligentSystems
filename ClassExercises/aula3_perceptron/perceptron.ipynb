{
 "cells": [
  {
   "cell_type": "markdown",
   "metadata": {},
   "source": [
    "# Aula 3: Perceptron"
   ]
  },
  {
   "cell_type": "markdown",
   "metadata": {},
   "source": [
    "<img src=\"../../assets/processo.png\" width=400>\n",
    "\n",
    "<img src=\"../../assets/perceptron.png\" width=400>"
   ]
  },
  {
   "cell_type": "code",
   "execution_count": 144,
   "metadata": {},
   "outputs": [],
   "source": [
    "import numpy as np\n",
    "import matplotlib.pyplot as plt\n",
    "import pandas as pd"
   ]
  },
  {
   "cell_type": "markdown",
   "metadata": {},
   "source": [
    "a) Carregar a matriz de treinamento\n",
    "\n",
    "Sendo ela dada por: x1 x2 x3 d (d = saída desejada)"
   ]
  },
  {
   "cell_type": "code",
   "execution_count": 145,
   "metadata": {},
   "outputs": [
    {
     "data": {
      "text/html": [
       "<div>\n",
       "<style scoped>\n",
       "    .dataframe tbody tr th:only-of-type {\n",
       "        vertical-align: middle;\n",
       "    }\n",
       "\n",
       "    .dataframe tbody tr th {\n",
       "        vertical-align: top;\n",
       "    }\n",
       "\n",
       "    .dataframe thead th {\n",
       "        text-align: right;\n",
       "    }\n",
       "</style>\n",
       "<table border=\"1\" class=\"dataframe\">\n",
       "  <thead>\n",
       "    <tr style=\"text-align: right;\">\n",
       "      <th></th>\n",
       "      <th>x1</th>\n",
       "      <th>x2</th>\n",
       "      <th>x3</th>\n",
       "      <th>d</th>\n",
       "    </tr>\n",
       "  </thead>\n",
       "  <tbody>\n",
       "    <tr>\n",
       "      <th>0</th>\n",
       "      <td>1.4715</td>\n",
       "      <td>0.8996</td>\n",
       "      <td>1.1509</td>\n",
       "      <td>-1.0</td>\n",
       "    </tr>\n",
       "    <tr>\n",
       "      <th>1</th>\n",
       "      <td>4.6315</td>\n",
       "      <td>0.3409</td>\n",
       "      <td>2.4209</td>\n",
       "      <td>-1.0</td>\n",
       "    </tr>\n",
       "    <tr>\n",
       "      <th>2</th>\n",
       "      <td>2.9055</td>\n",
       "      <td>3.1858</td>\n",
       "      <td>3.1770</td>\n",
       "      <td>1.0</td>\n",
       "    </tr>\n",
       "    <tr>\n",
       "      <th>3</th>\n",
       "      <td>3.2563</td>\n",
       "      <td>4.3231</td>\n",
       "      <td>3.8009</td>\n",
       "      <td>1.0</td>\n",
       "    </tr>\n",
       "    <tr>\n",
       "      <th>4</th>\n",
       "      <td>0.2798</td>\n",
       "      <td>4.0843</td>\n",
       "      <td>2.2521</td>\n",
       "      <td>1.0</td>\n",
       "    </tr>\n",
       "  </tbody>\n",
       "</table>\n",
       "</div>"
      ],
      "text/plain": [
       "       x1      x2      x3    d\n",
       "0  1.4715  0.8996  1.1509 -1.0\n",
       "1  4.6315  0.3409  2.4209 -1.0\n",
       "2  2.9055  3.1858  3.1770  1.0\n",
       "3  3.2563  4.3231  3.8009  1.0\n",
       "4  0.2798  4.0843  2.2521  1.0"
      ]
     },
     "execution_count": 145,
     "metadata": {},
     "output_type": "execute_result"
    }
   ],
   "source": [
    "# read treinamento.txt\n",
    "df = pd.read_csv('treinamento.txt', sep=\"\\t\", header=None, names=[\"x1\", \"x2\", \"x3\", \"d\"])\n",
    "df.columns = [\"x1\", \"x2\", \"x3\", \"d\"]\n",
    "df.head()"
   ]
  },
  {
   "cell_type": "markdown",
   "metadata": {},
   "source": [
    "b) Implementar T e d a partir de M "
   ]
  },
  {
   "cell_type": "code",
   "execution_count": 146,
   "metadata": {},
   "outputs": [
    {
     "data": {
      "text/plain": [
       "(   x0      x1      x2      x3\n",
       " 0  -1  1.4715  0.8996  1.1509\n",
       " 1  -1  4.6315  0.3409  2.4209\n",
       " 2  -1  2.9055  3.1858  3.1770\n",
       " 3  -1  3.2563  4.3231  3.8009\n",
       " 4  -1  0.2798  4.0843  2.2521,\n",
       "      d\n",
       " 0 -1.0\n",
       " 1 -1.0\n",
       " 2  1.0\n",
       " 3  1.0\n",
       " 4  1.0)"
      ]
     },
     "execution_count": 146,
     "metadata": {},
     "output_type": "execute_result"
    }
   ],
   "source": [
    "T = df[['x1', 'x2', 'x3']]\n",
    "T['x0'] = -1\n",
    "T = T[['x0', 'x1', 'x2', 'x3']]\n",
    "\n",
    "d = df[['d']]\n",
    "\n",
    "T.head(), d.head()\n"
   ]
  },
  {
   "cell_type": "markdown",
   "metadata": {},
   "source": [
    "c) inicializar variáveis"
   ]
  },
  {
   "cell_type": "code",
   "execution_count": 147,
   "metadata": {},
   "outputs": [
    {
     "data": {
      "text/plain": [
       "array([[0.70292861],\n",
       "       [0.69706798],\n",
       "       [0.1073461 ],\n",
       "       [0.70752513]])"
      ]
     },
     "execution_count": 147,
     "metadata": {},
     "output_type": "execute_result"
    }
   ],
   "source": [
    "lr = 0.01 \n",
    "count_epochs = 0\n",
    "w = np.array([[0], [0], [0], [0]]).astype(float) # theta w1 w2 w3\n",
    "\n",
    "# fill w with random values (0 to 1)\n",
    "for i in range(0, 4):\n",
    "    w[i] = np.random.uniform(0, 1)\n",
    "\n",
    "w"
   ]
  },
  {
   "cell_type": "markdown",
   "metadata": {},
   "source": [
    "d) obter o potencial de ativação"
   ]
  },
  {
   "cell_type": "code",
   "execution_count": 148,
   "metadata": {},
   "outputs": [
    {
     "data": {
      "text/plain": [
       "(array([[-1.    ,  4.6315,  0.3409,  2.4209]]), 4.274983621622934)"
      ]
     },
     "execution_count": 148,
     "metadata": {},
     "output_type": "execute_result"
    }
   ],
   "source": [
    "k = 1\n",
    "x = np.array([T.loc[k].values]).astype(float)\n",
    "\n",
    "u = np.dot(w.T, x.T)[0][0] # os zeros é pra tirar dos arrays\n",
    "\n",
    "x, u"
   ]
  },
  {
   "cell_type": "markdown",
   "metadata": {},
   "source": [
    "e) treinamento do perceptron \n",
    "\n",
    "Regra de Hebb"
   ]
  },
  {
   "cell_type": "code",
   "execution_count": 149,
   "metadata": {},
   "outputs": [
    {
     "name": "stdout",
     "output_type": "stream",
     "text": [
      "epoca:  0\n",
      "epoca:  1\n",
      "epoca:  2\n",
      "epoca:  3\n",
      "epoca:  4\n",
      "epoca:  5\n",
      "epoca:  6\n",
      "epoca:  7\n",
      "epoca:  8\n",
      "epoca:  9\n"
     ]
    },
    {
     "data": {
      "text/plain": [
       "array([[ 3.70292861, -6.64551139, -7.18671139, -6.66929139],\n",
       "       [ 3.69706798, -6.65137202, -7.19257202, -6.67515202],\n",
       "       [ 3.1073461 , -7.2410939 , -7.7822939 , -7.2648739 ],\n",
       "       [ 3.70752513, -6.64091487, -7.18211487, -6.66469487]])"
      ]
     },
     "execution_count": 149,
     "metadata": {},
     "output_type": "execute_result"
    }
   ],
   "source": [
    "erro = True\n",
    "epoca = 0\n",
    "\n",
    "while erro == True and epoca < 10:\n",
    "    print('epoca: ', epoca)\n",
    "    erro = False\n",
    "    epoca += 1\n",
    "    for k in range(len(T)):\n",
    "        x = np.array([T.loc[k].values]).astype(float)\n",
    "        u = np.dot(w.T, x.T)[0][0]\n",
    "        y = np.sign(u)\n",
    "        if y != d.iloc[k][0]:\n",
    "            w = w + lr * (d.iloc[k][0] - y) * x\n",
    "            erro = True\n",
    "            \n",
    "w \n"
   ]
  },
  {
   "cell_type": "code",
   "execution_count": null,
   "metadata": {},
   "outputs": [],
   "source": []
  },
  {
   "cell_type": "code",
   "execution_count": null,
   "metadata": {},
   "outputs": [],
   "source": []
  }
 ],
 "metadata": {
  "kernelspec": {
   "display_name": "Python 3",
   "language": "python",
   "name": "python3"
  },
  "language_info": {
   "codemirror_mode": {
    "name": "ipython",
    "version": 3
   },
   "file_extension": ".py",
   "mimetype": "text/x-python",
   "name": "python",
   "nbconvert_exporter": "python",
   "pygments_lexer": "ipython3",
   "version": "3.8.10"
  },
  "orig_nbformat": 4
 },
 "nbformat": 4,
 "nbformat_minor": 2
}
